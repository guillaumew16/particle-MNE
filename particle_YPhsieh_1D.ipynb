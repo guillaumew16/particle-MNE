{
 "cells": [
  {
   "cell_type": "code",
   "execution_count": null,
   "metadata": {},
   "outputs": [],
   "source": [
    "using Logging\n",
    "logger = ConsoleLogger(stdout)\n",
    "# debuglogger = ConsoleLogger(stderr, Logging.Debug)\n",
    "global_logger(logger)\n",
    "using JLD\n",
    "\n",
    "using Random\n",
    "rng = MersenneTwister(1234)\n",
    "import Dates"
   ]
  },
  {
   "cell_type": "code",
   "execution_count": null,
   "metadata": {},
   "outputs": [],
   "source": [
    "using Plots\n",
    "pyplot()"
   ]
  },
  {
   "cell_type": "code",
   "execution_count": null,
   "metadata": {},
   "outputs": [],
   "source": [
    "include(\"utils/misc.jl\")\n",
    "using .MiscUtils\n",
    "include(\"particle_1D/plot_game_1D.jl\")\n",
    "using .PlotGame1DUtils\n",
    "include(\"particle_1D/plot_results_1D.jl\")\n",
    "using .PlotRes1D\n",
    "include(\"particle_1D/CPMP_bilin_game_1D.jl\")\n",
    "using .CPMPBilinGame1D\n",
    "include(\"particle_1D/game_theory_contdom_1D.jl\")\n",
    "using .GameTheoryContdom1DUtils\n",
    "include(\"particle_1D/lyapunov_1D.jl\")\n",
    "using .Lyapunov1DUtils"
   ]
  },
  {
   "cell_type": "code",
   "execution_count": null,
   "metadata": {},
   "outputs": [],
   "source": [
    "ts = Dates.now()\n",
    "\n",
    "alpha = 1\n",
    "scaling = 1.7 # this is about right for alpha between 0.2 and 4, but there doesnt seem one value for `scaling` that works all the time...\n",
    "\n",
    "## algo parameters\n",
    "T = Int(floor(1500 / (alpha^scaling)))\n",
    "mx = 15 # nb particles\n",
    "my = 16\n",
    "eta0_wx = 1e-1 * alpha # initial stepsize\n",
    "eta0_wy = 1e-1 * alpha\n",
    "eta0_x  = 1e-2 * alpha\n",
    "eta0_y  = 1e-2 * alpha\n",
    "init_pos = \"grid_unif\" # \"iid_unif\" or \"grid_unif\"\n",
    "extrasteps = 2 # extrasteps=1: CP-MDA, extrasteps=2: CP-MP\n",
    "\n",
    "## random payoff matrix parameters\n",
    "YPhsieh_epsilon = 1.\n",
    "\n",
    "## plotting parameters\n",
    "deltax = 1e-4 # discretization step when computing (approximation of) global NI error\n",
    "deltay = 1e-4\n",
    "evalNIevery    = Int(floor(T/50))\n",
    "evallocNIevery = Int(floor(T/50))\n",
    "evalVevery     = Int(floor(T/50))\n",
    "plotiterevery  = Int(floor(T/50))\n",
    "xmin, xmax = -2., 2.\n",
    "ymin, ymax = -2., 2.\n",
    "\n",
    "## logging\n",
    "ts_fsfriendly = Dates.format(ts, \"yyyy-mm-ddTHHMMSS\") # filesystem-friendly string for ts\n",
    "resultdir = mkpath(\"results/particle__YPhsieh$(YPhsieh_epsilon)__mx$(mx)y$(my)__extrasteps$(extrasteps)__$(ts_fsfriendly)\")\n",
    "\n",
    "logfile = \"$resultdir/log.txt\"\n",
    "touch(logfile)\n",
    "open(logfile, \"a\") do f\n",
    "    write(f, \"T=$T\\n\")\n",
    "    write(f, \"mx=$mx\\n\")\n",
    "    write(f, \"my=$my\\n\")\n",
    "    write(f, \"eta0_wx=$(eta0_wx)\\n\")\n",
    "    write(f, \"eta0_wy=$(eta0_wy)\\n\")\n",
    "    write(f, \"eta0_x=$(eta0_x)\\n\")\n",
    "    write(f, \"eta0_y=$(eta0_y)\\n\")\n",
    "    write(f, \"init_pos=$(init_pos)\\n\")\n",
    "    write(f, \"extrasteps=$(extrasteps)\\n\")\n",
    "    write(f, \"YPhsieh_epsilon=$(YPhsieh_epsilon)\\n\")\n",
    "end"
   ]
  },
  {
   "cell_type": "code",
   "execution_count": null,
   "metadata": {},
   "outputs": [],
   "source": [
    "## instantiate game\n",
    "phi(x) = x^4/4 - x^2/2\n",
    "function gfun_centered(x, y)\n",
    "    return x*y + YPhsieh_epsilon*( phi(x) - phi(y) )\n",
    "end\n",
    "# gfun(x, y) = gfun_centered(x-0.5, y-0.5)\n",
    "gfun = gfun_centered\n",
    "heatmap_gfun_1D(gfun; xmin=xmin, xmax=xmax, ymin=ymin, ymax=ymax)"
   ]
  },
  {
   "cell_type": "code",
   "execution_count": null,
   "metadata": {},
   "outputs": [],
   "source": [
    "## solve game\n",
    "#==============#\n",
    "copies_wx, copies_x, copies_wy, copies_y = run_CPMP(gfun, T, mx, my, eta0_wx, eta0_x, eta0_wy, eta0_y, init_pos; \n",
    "    extrasteps=extrasteps, \n",
    "    true_prox=true,\n",
    "    rng=rng,\n",
    "    floorto01=false,\n",
    "    xinitmin=xmin, xinitmax=xmax, yinitmin=ymin, yinitmax=ymax)\n",
    "avg_wx, avg_x, avg_wy, avg_y = avg_iter(copies_wx, copies_x, copies_wy, copies_y)\n",
    "save(\"$resultdir/iterates.jld\", \"copies_wx\", copies_wx, \"copies_x\", copies_x, \"copies_wy\", copies_wy, \"copies_y\", copies_y)"
   ]
  },
  {
   "cell_type": "code",
   "execution_count": null,
   "metadata": {},
   "outputs": [],
   "source": [
    "# Use the last iterate as reference point (estimate of the true MNE)\n",
    "wx0, x0, wy0, y0 = copies_wx[:,T+1], copies_x[:,T+1], copies_wy[:,T+1], copies_y[:,T+1]\n",
    "nierr0 = glob_NI_err(gfun, wx0, x0, wy0, y0; deltax=deltax, deltay=deltay, xmin=xmin, xmax=xmax, ymin=ymin, ymax=ymax)\n",
    "gval0 = payoff(gfun, wx0, x0, wy0, y0)\n",
    "open(logfile, \"a\") do f\n",
    "    write(f, \"Using last iterate as reference point (wx0, x0, wy0, y0) with NI error $(nierr0)\\n\")\n",
    "    write(f, \"Payoff at reference point: gval0=$(gval0)\\n\")\n",
    "end\n",
    "nierr0, gval0"
   ]
  },
  {
   "cell_type": "code",
   "execution_count": null,
   "metadata": {},
   "outputs": [],
   "source": [
    "## compute and plot optimality metrics\n",
    "#==============#\n",
    "### compute and plot (global) NI error of iterates\n",
    "plt_NI, plt_NI_log, nierrs = plot_NI_err(gfun, T, copies_wx, copies_x, copies_wy, copies_y, avg_wx, avg_x, avg_wy, avg_y,\n",
    "    resultdir, logfile, evalNIevery;\n",
    "    deltax=deltax, deltay=deltay, skip_avg=true,\n",
    "    xmin=xmin, xmax=xmax, ymin=ymin, ymax=ymax)\n",
    "save(\"$resultdir/nierrs__every$(evalNIevery).jld\", \"nierrs\", nierrs)\n",
    "plt_NI_log"
   ]
  },
  {
   "cell_type": "code",
   "execution_count": null,
   "metadata": {},
   "outputs": [],
   "source": [
    "### compute and plot local NI error of iterates\n",
    "plt_locNI, plt_locNI_log, locnierrs = plot_locNI_err(gfun, T, copies_wx, copies_x, copies_wy, copies_y, avg_wx, avg_x, avg_wy, avg_y,\n",
    "    resultdir, logfile, evallocNIevery)\n",
    "plt_locNI_log"
   ]
  },
  {
   "cell_type": "code",
   "execution_count": null,
   "metadata": {},
   "outputs": [],
   "source": [
    "## plot first variations at reference point\n",
    "#==============#\n",
    "plt_firstvar_x, plt_firstvar_y = plot_firstvars(gfun, wx0, x0, wy0, y0, gval0,\n",
    "    resultdir;\n",
    "    xmin=xmin, xmax=xmax, ymin=ymin, ymax=ymax)\n",
    "plt_firstvar_x"
   ]
  },
  {
   "cell_type": "code",
   "execution_count": null,
   "metadata": {},
   "outputs": [],
   "source": [
    "## plot iterations\n",
    "#==============#\n",
    "pltt, _, _ = plot_iter_1D(gfun, wx0, x0, wy0, y0; xmin=xmin, xmax=xmax, ymin=ymin, ymax=ymax)\n",
    "fn = \"$resultdir/last_iter.png\"\n",
    "savefig(pltt, fn)\n",
    "pltt"
   ]
  },
  {
   "cell_type": "code",
   "execution_count": null,
   "metadata": {},
   "outputs": [],
   "source": [
    "plot_iters(gfun, T, copies_wx, copies_x, copies_wy, copies_y, avg_wx, avg_x, avg_wy, avg_y,\n",
    "    resultdir,\n",
    "    plotiterevery;\n",
    "    xmin=xmin, xmax=xmax, ymin=ymin, ymax=ymax)"
   ]
  },
  {
   "cell_type": "code",
   "execution_count": null,
   "metadata": {},
   "outputs": [],
   "source": [
    "## plot lyapunov function\n",
    "#==============#\n",
    "### Get aggregated representation of the reference point (ideally, should check manually!)\n",
    "wxstar, xstar, mxstar = aggregate_particles_1D(wx0, x0; thresh_pos=1e-5, torus=false)\n",
    "wystar, ystar, mystar = aggregate_particles_1D(wy0, y0; thresh_pos=1e-5, torus=false)\n",
    "dxstar_min = minimum([abs(xstar[I]-xstar[J]) for I=1:mxstar for J=1:I-1])\n",
    "dystar_min = minimum([abs(ystar[I]-ystar[J]) for I=1:mystar for J=1:I-1])\n",
    "open(logfile, \"a\") do f\n",
    "    write(f, \"mxstar, mystar, dxstar_min, dystar_min: $mxstar, $mystar, $dxstar_min, $dystar_min\\n\")\n",
    "end\n",
    "mxstar, mystar, dxstar_min, dystar_min"
   ]
  },
  {
   "cell_type": "code",
   "execution_count": null,
   "metadata": {},
   "outputs": [],
   "source": [
    "alpha_x = 3\n",
    "alpha_y = 3\n",
    "lambda_x = 3 # (must tweak manually! paper uses lambda_x = eta_x^{-1/6} for proofs)\n",
    "lambda_y = 3\n",
    "tau_x = 1e-2\n",
    "tau_y = 1e-2"
   ]
  },
  {
   "cell_type": "code",
   "execution_count": null,
   "metadata": {},
   "outputs": [],
   "source": [
    "# ### compute and plot weight and position and total lyapunov function of iterates\n",
    "# plt_V_x, plt_V_x_log, Vweis_x, Vposs_x, Vtots_x = plot_V(gfun, T, copies_wx, copies_x, avg_wx, avg_x,\n",
    "#     wxstar, xstar,\n",
    "#     eta0_wx, eta0_x,\n",
    "#     resultdir, logfile, \"x\",\n",
    "#     evalVevery;\n",
    "#     alpha=alpha_x, lambda=lambda_x, tau=tau_x)"
   ]
  },
  {
   "cell_type": "code",
   "execution_count": null,
   "metadata": {},
   "outputs": [],
   "source": [
    "# plt_V_y, plt_V_y_log, Vweis_y, Vposs_y, Vtots_y = plot_V(gfun, T, copies_wy, copies_y, avg_wy, avg_y,\n",
    "#     wystar, ystar,\n",
    "#     eta0_wy, eta0_y,\n",
    "#     resultdir, logfile, \"y\",\n",
    "#     evalVevery;\n",
    "#     alpha=alpha_y, lambda=lambda_y, tau=tau_y)"
   ]
  },
  {
   "cell_type": "code",
   "execution_count": null,
   "metadata": {},
   "outputs": [],
   "source": [
    "plt_Vxy, plt_Vxy_log, Vweis_xy, Vposs_xy, Vtots_xy = plot_V_xy(gfun, T, copies_wx, copies_x, copies_wy, copies_y, avg_wx, avg_x, avg_wy, avg_y,\n",
    "    wxstar, xstar, wystar, ystar, \n",
    "    eta0_wx, eta0_x, eta0_wy, eta0_y,\n",
    "    resultdir, logfile,\n",
    "    evalVevery;\n",
    "    alpha_x=alpha_x, lambda_x=lambda_x, tau_x=tau_x,\n",
    "    alpha_y=alpha_y, lambda_y=lambda_y, tau_y=tau_y)\n",
    "plt_Vxy_log"
   ]
  },
  {
   "cell_type": "code",
   "execution_count": null,
   "metadata": {},
   "outputs": [],
   "source": []
  }
 ],
 "metadata": {
  "kernelspec": {
   "display_name": "Julia 1.6.3",
   "language": "julia",
   "name": "julia-1.6"
  },
  "language_info": {
   "file_extension": ".jl",
   "mimetype": "application/julia",
   "name": "julia",
   "version": "1.6.3"
  },
  "orig_nbformat": 4
 },
 "nbformat": 4,
 "nbformat_minor": 2
}
