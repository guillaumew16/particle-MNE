{
 "cells": [
  {
   "cell_type": "code",
   "execution_count": null,
   "metadata": {},
   "outputs": [],
   "source": [
    "using Logging\n",
    "logger = ConsoleLogger(stdout)\n",
    "# debuglogger = ConsoleLogger(stderr, Logging.Debug)\n",
    "global_logger(logger)\n",
    "using JLD\n",
    "\n",
    "using Random\n",
    "rng = MersenneTwister(1234)\n",
    "import Dates"
   ]
  },
  {
   "cell_type": "code",
   "execution_count": null,
   "metadata": {},
   "outputs": [],
   "source": [
    "using Plots\n",
    "pyplot()"
   ]
  },
  {
   "cell_type": "code",
   "execution_count": null,
   "metadata": {},
   "outputs": [],
   "source": [
    "include(\"utils/misc.jl\")\n",
    "using .MiscUtils\n",
    "include(\"particle_1D/plot_results_1D.jl\")\n",
    "using .PlotRes1D\n",
    "include(\"particle_1D/CPMP_bilin_game_1D.jl\")\n",
    "using .CPMPBilinGame1D\n",
    "include(\"particle_1D/game_theory_contdom_1D.jl\")\n",
    "using .GameTheoryContdom1DUtils\n",
    "include(\"particle_1D/lyapunov_1D.jl\")\n",
    "using .Lyapunov1DUtils\n",
    "\n",
    "import ForwardDiff\n",
    "import LinearAlgebra as LA"
   ]
  },
  {
   "cell_type": "code",
   "execution_count": null,
   "metadata": {},
   "outputs": [],
   "source": [
    "ts = Dates.now()\n",
    "ts_fsfriendly = Dates.format(ts, \"yyyy-mm-ddTHHMMSS\") # filesystem-friendly string for ts\n",
    "resultdir = mkpath(\"results/particleMNE_badcase__$(ts_fsfriendly)\")\n",
    "\n",
    "## logging\n",
    "logfile = \"$resultdir/log.txt\"\n",
    "touch(logfile)\n",
    "# open(logfile, \"a\") do f\n",
    "#     write(f, \"BAD CASE\\n\")\n",
    "# end"
   ]
  },
  {
   "cell_type": "code",
   "execution_count": null,
   "metadata": {},
   "outputs": [],
   "source": [
    "my_trig_badcase(x, y) = sin(4*pi*x) + sin(4*pi*y) + 2*cos(2*pi*(x+y))\n",
    "gfun = my_trig_badcase\n",
    "contour(-.5:.01:.5, -.5:.01:.5, my_trig_badcase, fill=true, aspect_ratio=1)"
   ]
  },
  {
   "cell_type": "markdown",
   "metadata": {},
   "source": [
    "#### Preliminary run: go to neighborhood of solution"
   ]
  },
  {
   "cell_type": "code",
   "execution_count": null,
   "metadata": {},
   "outputs": [],
   "source": [
    "## algo parameters\n",
    "T = 200 # 500\n",
    "mx = 10 # nb particles\n",
    "my = 11\n",
    "eta0_wx = 4e-2 # initial stepsize\n",
    "eta0_wy = 4e-2\n",
    "eta0_x  = 1e-3\n",
    "eta0_y  = 1e-3\n",
    "init_pos = \"grid_unif\" # \"iid_unif\" or \"grid_unif\"\n",
    "extrasteps = 2 # extrasteps=1: CP-MDA, extrasteps=2: CP-MP\n",
    "\n",
    "deltax = 1e-4 # discretization step when computing (approximation of) global NI error\n",
    "deltay = 1e-4"
   ]
  },
  {
   "cell_type": "code",
   "execution_count": null,
   "metadata": {},
   "outputs": [],
   "source": [
    "open(logfile, \"a\") do f\n",
    "    write(f, \"=== PRELIMINARY RUN ===\\n\")\n",
    "    write(f, \"T=$T\\n\")\n",
    "    write(f, \"mx=$mx\\n\")\n",
    "    write(f, \"my=$my\\n\")\n",
    "    write(f, \"eta0_wx=$(eta0_wx)\\n\")\n",
    "    write(f, \"eta0_wy=$(eta0_wy)\\n\")\n",
    "    write(f, \"eta0_x=$(eta0_x)\\n\")\n",
    "    write(f, \"eta0_y=$(eta0_y)\\n\")\n",
    "    write(f, \"init_pos=$(init_pos)\\n\")\n",
    "    write(f, \"extrasteps=$(extrasteps)\\n\")\n",
    "end"
   ]
  },
  {
   "cell_type": "code",
   "execution_count": null,
   "metadata": {},
   "outputs": [],
   "source": [
    "## preliminary run\n",
    "copies_wx, copies_x, copies_wy, copies_y = run_CPMP(gfun, T, mx, my, eta0_wx, eta0_x, eta0_wy, eta0_y, init_pos; \n",
    "    extrasteps=extrasteps,\n",
    "    rng=rng)\n",
    "avg_wx, avg_x, avg_wy, avg_y = avg_iter(copies_wx, copies_x, copies_wy, copies_y)\n",
    "save(\"$resultdir/prelimrun_iterates.jld\", \"copies_wx\", copies_wx, \"copies_x\", copies_x, \"copies_wy\", copies_wy, \"copies_y\", copies_y)"
   ]
  },
  {
   "cell_type": "code",
   "execution_count": null,
   "metadata": {},
   "outputs": [],
   "source": [
    "# Check that last iterate (wx0, x0, wy0, y0) is close to optimal, as measured by NI error\n",
    "wx0, x0, wy0, y0 = copies_wx[:,T+1], copies_x[:,T+1], copies_wy[:,T+1], copies_y[:,T+1]\n",
    "nierr0 = glob_NI_err(gfun, wx0, x0, wy0, y0; deltax=deltax, deltay=deltay)\n",
    "gval0 = payoff(gfun, wx0, x0, wy0, y0)\n",
    "open(logfile, \"a\") do f\n",
    "    write(f, \"Got last iterate of the preliminary run (wx0, x0, wy0, y0) with NI error $(nierr0)\\n\")\n",
    "    write(f, \"Payoff at (wx0, x0, wy0, y0): gval0=$(gval0)\\n\")\n",
    "end\n",
    "nierr0, gval0"
   ]
  },
  {
   "cell_type": "code",
   "execution_count": null,
   "metadata": {},
   "outputs": [],
   "source": [
    "## Visually check the first variations at last iterate\n",
    "plt_firstvar_x, plt_firstvar_y = plot_firstvars(gfun, wx0, x0, wy0, y0, gval0,\n",
    "    resultdir)\n",
    "plt_firstvar_x"
   ]
  },
  {
   "cell_type": "code",
   "execution_count": null,
   "metadata": {},
   "outputs": [],
   "source": [
    "plt_firstvar_y"
   ]
  },
  {
   "cell_type": "markdown",
   "metadata": {},
   "source": [
    "#### Aggregate particles and check we are still in a neighborhood of solution"
   ]
  },
  {
   "cell_type": "code",
   "execution_count": null,
   "metadata": {},
   "outputs": [],
   "source": [
    "### Get aggregated representation of (wx0, x0, wy0, y0)\n",
    "wx00, x00, mxstar = aggregate_particles_1D(wx0, x0; thresh_pos=5e-2)\n",
    "wy00, y00, mystar = aggregate_particles_1D(wy0, y0; thresh_pos=5e-2)\n",
    "dxstar_min = minimum([torus_dist_1D(x00[I], x00[J]) for I=1:mxstar for J=1:I-1])\n",
    "dystar_min = minimum([torus_dist_1D(y00[I], y00[J]) for I=1:mystar for J=1:I-1])\n",
    "open(logfile, \"a\") do f\n",
    "    write(f, \"Aggregating last iterate of the preliminary run.\\n\")\n",
    "    write(f, \"mxstar, mystar, dxstar_min, dystar_min: $mxstar, $mystar, $dxstar_min, $dystar_min\\n\")\n",
    "end\n",
    "mxstar, mystar, dxstar_min, dystar_min"
   ]
  },
  {
   "cell_type": "code",
   "execution_count": null,
   "metadata": {},
   "outputs": [],
   "source": [
    "save(\"$resultdir/prelimrun_lastiterate.jld\", \"wx0\", wx0, \"x0\", x0, \"wy0\", wy0, \"y0\", y0)\n",
    "save(\"$resultdir/prelimrun_lastiterate_aggregated.jld\", \"wx00\", wx00, \"x00\", x00, \"wy00\", wy00, \"y00\", y00)"
   ]
  },
  {
   "cell_type": "code",
   "execution_count": null,
   "metadata": {},
   "outputs": [],
   "source": [
    "nierr00 = glob_NI_err(gfun, wx00, x00, wy00, y00; deltax=deltax, deltay=deltay)\n",
    "gval00 = payoff(gfun, wx00, x00, wy00, y00)\n",
    "open(logfile, \"a\") do f\n",
    "    write(f, \"Aggregated last iterate (wx00, x00, wy00, y00) has NI error $(nierr00)\\n\")\n",
    "    write(f, \"Payoff at (wx00, x00, wy00, y00): gval00=$(gval00)\\n\")\n",
    "end\n",
    "nierr00, gval00"
   ]
  },
  {
   "cell_type": "code",
   "execution_count": null,
   "metadata": {},
   "outputs": [],
   "source": [
    "plt_firstvar_x, plt_firstvar_y = plot_firstvars(gfun, wx00, x00, wy00, y00, gval0,\n",
    "    resultdir)\n",
    "plt_firstvar_x"
   ]
  },
  {
   "cell_type": "code",
   "execution_count": null,
   "metadata": {},
   "outputs": [],
   "source": [
    "plt_firstvar_y"
   ]
  },
  {
   "cell_type": "markdown",
   "metadata": {},
   "source": [
    "#### Run CP-MDA (using hot and exact-parametrized initialization)"
   ]
  },
  {
   "cell_type": "code",
   "execution_count": null,
   "metadata": {},
   "outputs": [],
   "source": [
    "## algo parameters\n",
    "mx = mxstar # nb particles\n",
    "my = mystar\n",
    "T = 10 * 1000000\n",
    "eta0_wx = 0.1 * 2e-3 # initial stepsize -- even be more generous and reduce the step-size compared to what will be used for CP-MP\n",
    "eta0_wy = 0.1 * 2e-3\n",
    "eta0_x  = 0.1 * 1e-4\n",
    "eta0_y  = 0.1 * 1e-4\n",
    "# init_pos = \"grid_unif\"\n",
    "extrasteps = 1 # extrasteps=1: CP-MDA, extrasteps=2: CP-MP\n",
    "\n",
    "deltax = 1e-4 # discretization step when computing (approximation of) global NI error\n",
    "deltay = 1e-4"
   ]
  },
  {
   "cell_type": "code",
   "execution_count": null,
   "metadata": {},
   "outputs": [],
   "source": [
    "open(logfile, \"a\") do f\n",
    "    write(f, \"=== RUN ON HOT EXACT-PARAMETRIZED INITIALIZATION ===\\n\")\n",
    "    write(f, \"T=$T\\n\")\n",
    "    write(f, \"mx=$mx\\n\")\n",
    "    write(f, \"my=$my\\n\")\n",
    "    write(f, \"eta0_wx=$(eta0_wx)\\n\")\n",
    "    write(f, \"eta0_wy=$(eta0_wy)\\n\")\n",
    "    write(f, \"eta0_x=$(eta0_x)\\n\")\n",
    "    write(f, \"eta0_y=$(eta0_y)\\n\")\n",
    "    write(f, \"extrasteps=$(extrasteps)\\n\")\n",
    "end"
   ]
  },
  {
   "cell_type": "code",
   "execution_count": null,
   "metadata": {},
   "outputs": [],
   "source": [
    "## run CPMDA from hot exact-parametrized initialization (wx00, x00, wy00, y00)\n",
    "copies_wx, copies_x, copies_wy, copies_y = run_CPMP(gfun, T, mxstar, mystar, eta0_wx, eta0_x, eta0_wy, eta0_y, nothing; \n",
    "    wx00=wx00, x00=x00, wy00=wy00, y00=y00,\n",
    "    extrasteps=extrasteps,\n",
    "    rng=rng)\n",
    "avg_wx, avg_x, avg_wy, avg_y = avg_iter(copies_wx, copies_x, copies_wy, copies_y)\n",
    "save(\"$resultdir/iterates.jld\", \"copies_wx\", copies_wx, \"copies_x\", copies_x, \"copies_wy\", copies_wy, \"copies_y\", copies_y)"
   ]
  },
  {
   "cell_type": "code",
   "execution_count": null,
   "metadata": {},
   "outputs": [],
   "source": [
    "wxFF, xFF, wyFF, yFF = copies_wx[:,T+1], copies_x[:,T+1], copies_wy[:,T+1], copies_y[:,T+1]\n",
    "nierrFF = glob_NI_err(gfun, wxFF, xFF, wyFF, yFF; deltax=deltax, deltay=deltay)\n",
    "gvalFF = payoff(gfun, wxFF, xFF, wyFF, yFF)\n",
    "open(logfile, \"a\") do f\n",
    "    write(f, \"Got last iterate (wxFF, xFF, wyFF, yFF) with NI error $(nierrFF)\\n\")\n",
    "    write(f, \"Payoff at (wxFF, xFF, wyFF, yFF): gvalFF=$(gvalFF)\\n\")\n",
    "end\n",
    "nierrFF, gvalFF"
   ]
  },
  {
   "cell_type": "markdown",
   "metadata": {},
   "source": [
    "#### Compute and plot optimality metrics"
   ]
  },
  {
   "cell_type": "code",
   "execution_count": null,
   "metadata": {},
   "outputs": [],
   "source": [
    "## plotting parameters\n",
    "deltax = 1e-4 # discretization step when computing (approximation of) global NI error\n",
    "deltay = 1e-4\n",
    "evalNIevery    = Int(floor(T/500)) # can go very precise since mxstar=mystar=2 small\n",
    "evallocNIevery = Int(floor(T/500))\n",
    "evalVevery     = Int(floor(T/50))\n",
    "plotiterevery  = Int(floor(T/50))"
   ]
  },
  {
   "cell_type": "code",
   "execution_count": null,
   "metadata": {},
   "outputs": [],
   "source": [
    "### compute and plot (global) NI error of iterates\n",
    "plt_NI, plt_NI_log, nierrs = plot_NI_err(gfun, T, copies_wx, copies_x, copies_wy, copies_y, avg_wx, avg_x, avg_wy, avg_y,\n",
    "    resultdir, logfile, evalNIevery;\n",
    "    deltax=deltax, deltay=deltay, skip_avg=true)\n",
    "save(\"$resultdir/nierrs__every$(evalNIevery).jld\", \"nierrs\", nierrs)\n",
    "plt_NI_log"
   ]
  },
  {
   "cell_type": "code",
   "execution_count": null,
   "metadata": {},
   "outputs": [],
   "source": [
    "### compute and plot local NI error of iterates\n",
    "plt_locNI, plt_locNI_log, locnierrs = plot_locNI_err(gfun, T, copies_wx, copies_x, copies_wy, copies_y, avg_wx, avg_x, avg_wy, avg_y,\n",
    "    resultdir, logfile, evallocNIevery)\n",
    "plt_locNI_log"
   ]
  },
  {
   "cell_type": "code",
   "execution_count": null,
   "metadata": {},
   "outputs": [],
   "source": [
    "## plot first variations\n",
    "plt_firstvar_x, plt_firstvar_y = plot_firstvars(gfun, wxFF, xFF, wyFF, yFF, gvalFF,\n",
    "    resultdir)\n",
    "plt_firstvar_x"
   ]
  },
  {
   "cell_type": "code",
   "execution_count": null,
   "metadata": {},
   "outputs": [],
   "source": [
    "plt_firstvar_y"
   ]
  },
  {
   "cell_type": "code",
   "execution_count": null,
   "metadata": {},
   "outputs": [],
   "source": [
    "# ## plot lyapunov function, using last iterate as reference point (estimate of the MNE, exact-parametrized)\n",
    "# wxstar, xstar = \n",
    "# wystar, ystar = \n",
    "\n",
    "# alpha_x = 3\n",
    "# alpha_y = 3\n",
    "# lambda_x = 3 # (must tweak manually! paper uses lambda_x = eta_x^{-1/6} for proofs)\n",
    "# lambda_y = 3\n",
    "# tau_x = 1e-2\n",
    "# tau_y = 1e-2\n",
    "\n",
    "# plt_Vxy, plt_Vxy_log, Vweis_xy, Vposs_xy, Vtots_xy = plot_V_xy(gfun, T, copies_wx, copies_x, copies_wy, copies_y, avg_wx, avg_x, avg_wy, avg_y,\n",
    "#     wxstar, xstar, wystar, ystar, \n",
    "#     eta0_wx, eta0_x, eta0_wy, eta0_y,\n",
    "#     resultdir, logfile,\n",
    "#     evalVevery;\n",
    "#     alpha_x=alpha_x, lambda_x=lambda_x, tau_x=tau_x,\n",
    "#     alpha_y=alpha_y, lambda_y=lambda_y, tau_y=tau_y)\n",
    "# plt_Vxy_log"
   ]
  },
  {
   "cell_type": "code",
   "execution_count": null,
   "metadata": {},
   "outputs": [],
   "source": [
    "# this_Tstart = 1000 # (the xlabel in the resulting plot will not be adjusted!)\n",
    "# this_Tend = 2000\n",
    "# this_evalVevery = 1\n",
    "# plt_Vxy, plt_Vxy_log, Vweis_xy, Vposs_xy, Vtots_xy = plot_V_xy(gfun, this_Tend-this_Tstart, copies_wx[:,this_Tstart:this_Tend], copies_x[:,this_Tstart:this_Tend], copies_wy[:,this_Tstart:this_Tend], copies_y[:,this_Tstart:this_Tend],\n",
    "#     avg_wx, avg_x, avg_wy, avg_y,\n",
    "#     wxstar, xstar, wystar, ystar, \n",
    "#     eta0_wx, eta0_x, eta0_wy, eta0_y,\n",
    "#     resultdir, logfile,\n",
    "#     this_evalVevery;\n",
    "#     alpha_x=alpha_x, lambda_x=lambda_x, tau_x=tau_x,\n",
    "#     alpha_y=alpha_y, lambda_y=lambda_y, tau_y=tau_y)\n",
    "# plt_Vxy_log"
   ]
  },
  {
   "cell_type": "code",
   "execution_count": null,
   "metadata": {},
   "outputs": [],
   "source": [
    "# ### compute and plot weight and position and total lyapunov function of iterates\n",
    "# plt_V_x, plt_V_x_log, Vweis_x, Vposs_x, Vtots_x = plot_V(gfun, T, copies_wx, copies_x, avg_wx, avg_x,\n",
    "#     wxstar, xstar,\n",
    "#     eta0_wx, eta0_x,\n",
    "#     resultdir, logfile, \"x\",\n",
    "#     evalVevery;\n",
    "#     alpha=alpha_x, lambda=lambda_x, tau=tau_x)"
   ]
  },
  {
   "cell_type": "code",
   "execution_count": null,
   "metadata": {},
   "outputs": [],
   "source": [
    "# plt_V_y, plt_V_y_log, Vweis_y, Vposs_y, Vtots_y = plot_V(gfun, T, copies_wy, copies_y, avg_wy, avg_y,\n",
    "#     wystar, ystar,\n",
    "#     eta0_wy, eta0_y,\n",
    "#     resultdir, logfile, \"y\",\n",
    "#     evalVevery;\n",
    "#     alpha=alpha_y, lambda=lambda_y, tau=tau_y)"
   ]
  },
  {
   "attachments": {},
   "cell_type": "markdown",
   "metadata": {},
   "source": [
    "#### Run CP-MP (using hot and exact-parametrized initialization)"
   ]
  },
  {
   "cell_type": "code",
   "execution_count": null,
   "metadata": {},
   "outputs": [],
   "source": [
    "## algo parameters\n",
    "alpha = 1.\n",
    "scaling = 2\n",
    "mx = mxstar # nb particles\n",
    "my = mystar\n",
    "T = Int(floor( 1000000/alpha^2 ))\n",
    "eta0_wx = alpha * 2e-3 # initial stepsize\n",
    "eta0_wy = alpha * 2e-3\n",
    "eta0_x  = alpha * 1e-4\n",
    "eta0_y  = alpha * 1e-4\n",
    "# init_pos = \"grid_unif\"\n",
    "extrasteps = 2 # extrasteps=1: CP-MDA, extrasteps=2: CP-MP\n",
    "\n",
    "deltax = 1e-4 # discretization step when computing (approximation of) global NI error\n",
    "deltay = 1e-4"
   ]
  },
  {
   "cell_type": "code",
   "execution_count": null,
   "metadata": {},
   "outputs": [],
   "source": [
    "open(logfile, \"a\") do f\n",
    "    write(f, \"=== RUN ON HOT EXACT-PARAMETRIZED INITIALIZATION ===\\n\")\n",
    "    write(f, \"T=$T\\n\")\n",
    "    write(f, \"mx=$mx\\n\")\n",
    "    write(f, \"my=$my\\n\")\n",
    "    write(f, \"eta0_wx=$(eta0_wx)\\n\")\n",
    "    write(f, \"eta0_wy=$(eta0_wy)\\n\")\n",
    "    write(f, \"eta0_x=$(eta0_x)\\n\")\n",
    "    write(f, \"eta0_y=$(eta0_y)\\n\")\n",
    "    write(f, \"extrasteps=$(extrasteps)\\n\")\n",
    "end"
   ]
  },
  {
   "cell_type": "code",
   "execution_count": null,
   "metadata": {},
   "outputs": [],
   "source": [
    "## run CPMP from hot exact-parametrized initialization (wx00, x00, wy00, y00)\n",
    "copies_wx, copies_x, copies_wy, copies_y = run_CPMP(gfun, T, mxstar, mystar, eta0_wx, eta0_x, eta0_wy, eta0_y, nothing; \n",
    "    wx00=wx00, x00=x00, wy00=wy00, y00=y00,\n",
    "    extrasteps=extrasteps,\n",
    "    true_prox=true,\n",
    "    rng=rng)\n",
    "avg_wx, avg_x, avg_wy, avg_y = avg_iter(copies_wx, copies_x, copies_wy, copies_y)\n",
    "save(\"$resultdir/iterates.jld\", \"copies_wx\", copies_wx, \"copies_x\", copies_x, \"copies_wy\", copies_wy, \"copies_y\", copies_y)"
   ]
  },
  {
   "cell_type": "code",
   "execution_count": null,
   "metadata": {},
   "outputs": [],
   "source": [
    "wxMP, xMP, wyMP, yMP = copies_wx[:,T+1], copies_x[:,T+1], copies_wy[:,T+1], copies_y[:,T+1]\n",
    "nierrMP = glob_NI_err(gfun, wxMP, xMP, wyMP, yMP; deltax=deltax, deltay=deltay)\n",
    "gvalMP = payoff(gfun, wxMP, xMP, wyMP, yMP)\n",
    "open(logfile, \"a\") do f\n",
    "    write(f, \"Got last iterate (wxMP, xMP, wyMP, yMP) with NI error $(nierrMP)\\n\")\n",
    "    write(f, \"Payoff at (wxMP, xMP, wyMP, yMP): gvalMP=$(gvalMP)\\n\")\n",
    "end\n",
    "nierrMP, gvalMP"
   ]
  },
  {
   "cell_type": "markdown",
   "metadata": {},
   "source": [
    "#### Compute and plot optimality metrics"
   ]
  },
  {
   "cell_type": "code",
   "execution_count": null,
   "metadata": {},
   "outputs": [],
   "source": [
    "## plotting parameters\n",
    "deltax = 1e-4 # discretization step when computing (approximation of) global NI error\n",
    "deltay = 1e-4\n",
    "evalNIevery    = Int(floor(T/500))\n",
    "evallocNIevery = Int(floor(T/500))\n",
    "evalVevery     = Int(floor(T/50))\n",
    "plotiterevery  = Int(floor(T/50))"
   ]
  },
  {
   "cell_type": "code",
   "execution_count": null,
   "metadata": {},
   "outputs": [],
   "source": [
    "### compute and plot (global) NI error of iterates\n",
    "plt_NI, plt_NI_log, nierrs = plot_NI_err(gfun, T, copies_wx, copies_x, copies_wy, copies_y, avg_wx, avg_x, avg_wy, avg_y,\n",
    "    resultdir, logfile, evalNIevery;\n",
    "    deltax=deltax, deltay=deltay, skip_avg=true)\n",
    "save(\"$resultdir/nierrs__every$(evalNIevery).jld\", \"nierrs\", nierrs)\n",
    "plt_NI_log"
   ]
  },
  {
   "cell_type": "code",
   "execution_count": null,
   "metadata": {},
   "outputs": [],
   "source": [
    "### compute and plot local NI error of iterates\n",
    "plt_locNI, plt_locNI_log, locnierrs = plot_locNI_err(gfun, T, copies_wx, copies_x, copies_wy, copies_y, avg_wx, avg_x, avg_wy, avg_y,\n",
    "    resultdir, logfile, evallocNIevery)\n",
    "plt_locNI_log"
   ]
  },
  {
   "cell_type": "code",
   "execution_count": null,
   "metadata": {},
   "outputs": [],
   "source": [
    "## plot first variations\n",
    "plt_firstvar_x, plt_firstvar_y = plot_firstvars(gfun, wxMP, xMP, wyMP, yMP, gvalMP,\n",
    "    resultdir)\n",
    "plt_firstvar_x"
   ]
  },
  {
   "cell_type": "code",
   "execution_count": null,
   "metadata": {},
   "outputs": [],
   "source": [
    "plt_firstvar_y"
   ]
  },
  {
   "cell_type": "code",
   "execution_count": null,
   "metadata": {},
   "outputs": [],
   "source": []
  }
 ],
 "metadata": {
  "kernelspec": {
   "display_name": "Julia 1.6.3",
   "language": "julia",
   "name": "julia-1.6"
  },
  "language_info": {
   "file_extension": ".jl",
   "mimetype": "application/julia",
   "name": "julia",
   "version": "1.6.3"
  },
  "orig_nbformat": 4
 },
 "nbformat": 4,
 "nbformat_minor": 2
}
