{
 "cells": [
  {
   "cell_type": "code",
   "execution_count": null,
   "metadata": {},
   "outputs": [],
   "source": [
    "using Logging\n",
    "logger = ConsoleLogger(stdout)\n",
    "# debuglogger = ConsoleLogger(stderr, Logging.Debug)\n",
    "global_logger(logger)\n",
    "using JLD\n",
    "\n",
    "using Random\n",
    "rng = MersenneTwister(1234)\n",
    "import Dates"
   ]
  },
  {
   "cell_type": "code",
   "execution_count": null,
   "metadata": {},
   "outputs": [],
   "source": [
    "using Plots\n",
    "pyplot()"
   ]
  },
  {
   "cell_type": "code",
   "execution_count": null,
   "metadata": {},
   "outputs": [],
   "source": [
    "include(\"utils/payoff_functions.jl\")\n",
    "using .PayoffFunctions\n",
    "include(\"weightonly/plot_game_findom.jl\")\n",
    "using .PlotGameFindomUtils\n",
    "include(\"weightonly/plot_results_findom.jl\")\n",
    "using .PlotResFindom\n",
    "include(\"weightonly/MP_bilin_game.jl\")\n",
    "using .MPBilinGame\n",
    "include(\"weightonly/game_theory_findom.jl\")\n",
    "using .GameTheoryFindomUtils"
   ]
  },
  {
   "cell_type": "code",
   "execution_count": null,
   "metadata": {},
   "outputs": [],
   "source": [
    "ts = Dates.now()\n",
    "\n",
    "alpha = 1\n",
    "scaling = 2\n",
    "\n",
    "## algo parameters\n",
    "T = Int(floor(50000 / (alpha^scaling)))\n",
    "mx = 14 # size of strategy space for player x\n",
    "my = 12\n",
    "eta0_wx = 2e0 * alpha # initial stepsize\n",
    "eta0_wy = 2e0 * alpha\n",
    "extrasteps = 2 # extrasteps=1: Mirror Descent-Ascent, extrasteps=2: Mirror Prox\n",
    "\n",
    "## random payoff matrix parameters\n",
    "sigma = 1.0\n",
    "\n",
    "## plotting parameters\n",
    "evalNIevery = Int(floor(T/50))\n",
    "evalgap0every = Int(floor(T/50))\n",
    "evaldiv0every = Int(floor(T/50))\n",
    "plotiterevery = Int(floor(T/50))\n",
    "\n",
    "## logging\n",
    "ts_fsfriendly = Dates.format(ts, \"yyyy-mm-ddTHHMMSS\") # filesystem-friendly string for ts\n",
    "resultdir = mkpath(\"results/weightonly__gaussiansigma$(sigma)__mx$(mx)y$(my)__extrasteps$(extrasteps)__$(ts_fsfriendly)\")\n",
    "\n",
    "logfile = \"$resultdir/log.txt\"\n",
    "touch(logfile)\n",
    "open(logfile, \"a\") do f\n",
    "    write(f, \"T=$T\\n\")\n",
    "    write(f, \"mx=$(mx)\\n\")\n",
    "    write(f, \"my=$(my)\\n\")\n",
    "    write(f, \"eta0_wx=$(eta0_wx)\\n\")\n",
    "    write(f, \"eta0_wy=$(eta0_wy)\\n\")\n",
    "    write(f, \"extrasteps=$(extrasteps)\\n\")\n",
    "    write(f, \"sigma=$(sigma)\\n\")\n",
    "end\n"
   ]
  },
  {
   "cell_type": "code",
   "execution_count": null,
   "metadata": {},
   "outputs": [],
   "source": [
    "## instantiate game\n",
    "Random.seed!(rng, 1234)\n",
    "gmat = random_gaussian_matrix(mx, my; rng=rng, sigma=sigma)\n",
    "\n",
    "open(logfile, \"a\") do f\n",
    "    write(f, \"minimum(gmat)=$(minimum(gmat))\\n\")\n",
    "    write(f, \"maximum(gmat)=$(maximum(gmat))\\n\")\n",
    "end\n",
    "heatmap(transpose(gmat))"
   ]
  },
  {
   "cell_type": "code",
   "execution_count": null,
   "metadata": {},
   "outputs": [],
   "source": [
    "## solve game\n",
    "#==============#\n",
    "copies_wx, copies_wy = run_MP(gmat, T, eta0_wx, eta0_wy; extrasteps=extrasteps)\n",
    "avg_wx, avg_wy = avg_iter(copies_wx, copies_wy)\n",
    "save(\"$resultdir/iterates.jld\", \"copies_wx\", copies_wx, \"copies_wy\", copies_wy)"
   ]
  },
  {
   "cell_type": "code",
   "execution_count": null,
   "metadata": {},
   "outputs": [],
   "source": [
    "# Use the last iterate as reference point (estimate of the true MNE)\n",
    "wx0, wy0 = copies_wx[:,T+1], copies_wy[:,T+1]\n",
    "nierr0 = NI_err(gmat, wx0, wy0)\n",
    "gval0 = payoff(gmat, wx0, wy0)\n",
    "open(logfile, \"a\") do f\n",
    "    write(f, \"Using last iterate as reference point (wx0, wy0) with NI error $(nierr0)\\n\")\n",
    "    write(f, \"(For comparison: max(gmat)-min(gmat)=$(maximum(gmat) - minimum(gmat)))\\n\")\n",
    "    write(f, \"Payoff at reference point: gval0=$(gval0)\\n\")\n",
    "end\n",
    "nierr0, gval0"
   ]
  },
  {
   "cell_type": "code",
   "execution_count": null,
   "metadata": {},
   "outputs": [],
   "source": [
    "## compute and plot optimality metrics\n",
    "#==============#\n",
    "### compute and plot NI error of iterates\n",
    "plt_NI, plt_NI_log, plt_NI_log_log, nierrs = plot_NI_err(gmat, T, copies_wx, copies_wy, avg_wx, avg_wy, \n",
    "    resultdir, logfile, evalNIevery)\n",
    "save(\"$resultdir/nierrs__every$(evalNIevery).jld\", \"nierrs\", nierrs)\n",
    "plt_NI_log"
   ]
  },
  {
   "cell_type": "code",
   "execution_count": null,
   "metadata": {},
   "outputs": [],
   "source": [
    "### compute and plot KL-divergence to reference point of iterates\n",
    "plt_div0, plt_div0_log, div0s = plot_div_to_ref(gmat, T, copies_wx, copies_wy, avg_wx, avg_wy, \n",
    "    wx0, wy0, \n",
    "    resultdir, logfile, evaldiv0every)\n",
    "plt_div0_log"
   ]
  },
  {
   "cell_type": "code",
   "execution_count": null,
   "metadata": {},
   "outputs": [],
   "source": [
    "## plot first variations at reference point\n",
    "#==============#\n",
    "plt_firstvar_x, plt_firstvar_y = plot_firstvars(gmat, wx0, wy0, gval0,\n",
    "    resultdir)\n",
    "plt_firstvar_x"
   ]
  },
  {
   "cell_type": "code",
   "execution_count": null,
   "metadata": {},
   "outputs": [],
   "source": [
    "## plot iterations\n",
    "#==============#\n",
    "pltt = plot_iter_findom(gmat, wx0, wy0)\n",
    "fn = \"$resultdir/last_iter.png\"\n",
    "savefig(pltt, fn)\n",
    "pltt"
   ]
  },
  {
   "cell_type": "code",
   "execution_count": null,
   "metadata": {},
   "outputs": [],
   "source": [
    "plot_iters(gmat, T, copies_wx, copies_wy, avg_wx, avg_wy, \n",
    "    resultdir,\n",
    "    plotiterevery)"
   ]
  },
  {
   "cell_type": "code",
   "execution_count": null,
   "metadata": {},
   "outputs": [],
   "source": []
  }
 ],
 "metadata": {
  "kernelspec": {
   "display_name": "Julia 1.6.3",
   "language": "julia",
   "name": "julia-1.6"
  },
  "language_info": {
   "file_extension": ".jl",
   "mimetype": "application/julia",
   "name": "julia",
   "version": "1.6.3"
  },
  "orig_nbformat": 4
 },
 "nbformat": 4,
 "nbformat_minor": 2
}
