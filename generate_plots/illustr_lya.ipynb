{
 "cells": [
  {
   "cell_type": "code",
   "execution_count": null,
   "metadata": {},
   "outputs": [],
   "source": [
    "import Dates\n",
    "using Plots\n",
    "pyplot()\n",
    "using LaTeXStrings"
   ]
  },
  {
   "cell_type": "code",
   "execution_count": null,
   "metadata": {},
   "outputs": [],
   "source": [
    "ts = Dates.now()\n",
    "ts_fsfriendly = Dates.format(ts, \"yyyy-mm-ddTHHMMSS\") # filesystem-friendly string for ts\n",
    "resultdir = mkpath(\"../results/illustr_lya__$(ts_fsfriendly)\")"
   ]
  },
  {
   "cell_type": "code",
   "execution_count": null,
   "metadata": {},
   "outputs": [],
   "source": [
    "function psi(r; alpha=3, lambda=1)\n",
    "    if r > lambda\n",
    "        return 0\n",
    "    elseif r < 0\n",
    "        error(\"r<0\")\n",
    "    else\n",
    "        return exp(-r^alpha / alpha)\n",
    "    end\n",
    "end"
   ]
  },
  {
   "cell_type": "code",
   "execution_count": null,
   "metadata": {},
   "outputs": [],
   "source": [
    "lambda = 2\n",
    "epsilon = psi(lambda; lambda=lambda)\n",
    "xs = range(-3, 3, length=5001)\n",
    "ys = psi.(abs.(xs), lambda=lambda)\n",
    "\n",
    "upscale=2   # adjusting fontsize, linewidths etc.\n",
    "resscale=2  # keep everything else fixed but increase resolution\n",
    "fontsize=11/upscale*1.5\n",
    "\n",
    "plt_psi = plot(xs, ys, label=\"\",\n",
    "    yticks=0:0.5:1,\n",
    "    # ylims=(-1.5, 1.5),\n",
    "    ylims=(-0.02, 1.3),\n",
    "    linewidth=upscale*0.75,\n",
    "    xtickfontsize=fontsize, ytickfontsize=fontsize, xguidefontsize=fontsize, yguidefontsize=fontsize, legendfontsize=fontsize,\n",
    "    dpi=upscale*100*resscale,\n",
    "    size=(600/upscale, 250/upscale))\n",
    "hline!([epsilon], linewidth=upscale*0.5, linestyle=:dash, color=:red, label=\"\")\n",
    "vline!([-lambda, lambda], linewidth=upscale*0.5, linestyle=:dot, color=:blue, label=\"\")\n",
    "\n",
    "fn = \"$resultdir/psi.png\"\n",
    "savefig(plt_psi, fn)\n",
    "\n",
    "# plt_psi"
   ]
  },
  {
   "cell_type": "code",
   "execution_count": null,
   "metadata": {},
   "outputs": [],
   "source": [
    "upscale=2   # adjusting fontsize, linewidths etc.\n",
    "resscale=2  # keep everything else fixed but increase resolution\n",
    "fontsize=11/upscale*1.5\n",
    "\n",
    "x = [-2.5, -1.75, -1.6,  1.]\n",
    "a = [ 0.4,   0.1,  0.2, 0.5] \n",
    "stemvscale = 2.5\n",
    "\n",
    "Psi = psi.(abs.(x), lambda=lambda)\n",
    "A = transpose(Psi) * a\n",
    "X = transpose(Psi) * (a .* x) / A\n",
    "\n",
    "plt_constr_lya = plot(xs, ys, label=\"\",\n",
    "    xticks=(\n",
    "        [-2, 0, 2, X], \n",
    "        [L\"x^*_I-\\lambda \\tau\", L\"x^*_I\", L\"x^*_I+\\lambda \\tau\", L\"\\overline{x}_I\"]\n",
    "    ),\n",
    "    yticks=false,\n",
    "    ylims=(-0.02, 1.3),\n",
    "    grid=false,\n",
    "    linewidth=upscale*0.75,\n",
    "    xtickfont=\"serif\",\n",
    "    xtickfontsize=fontsize, ytickfontsize=fontsize, xguidefontsize=fontsize, yguidefontsize=fontsize, legendfontsize=fontsize,\n",
    "    dpi=upscale*100*resscale,\n",
    "    size=(600/upscale, 250/upscale))\n",
    "vline!([-lambda, lambda], linewidth=upscale*0.5, linestyle=:dot, color=:blue, label=\"\")\n",
    "\n",
    "for i in eachindex(x)\n",
    "    xx = x[i]\n",
    "    aa = a[i] *stemvscale\n",
    "    plot!([xx, xx], [0, aa], label=\"\", color=:green,\n",
    "        linewidth=upscale*0.5)\n",
    "    scatter!([xx], [aa], label=\"\", markerstrokewidth=0, color=:green,\n",
    "        linewidth=upscale*0.5)\n",
    "end\n",
    "\n",
    "tA = A*stemvscale\n",
    "plot!([X, X], [0, tA], label=\"\", color=:red,\n",
    "    linewidth=upscale*0.5)\n",
    "scatter!([X], [tA], label=\"\", markerstrokewidth=0, color=:red,\n",
    "    linewidth=upscale*0.5)\n",
    "\n",
    "fn = \"$resultdir/constr_lya.png\"\n",
    "savefig(plt_constr_lya, fn)\n",
    "\n",
    "# plt_constr_lya"
   ]
  },
  {
   "cell_type": "code",
   "execution_count": null,
   "metadata": {},
   "outputs": [],
   "source": []
  }
 ],
 "metadata": {
  "kernelspec": {
   "display_name": "Julia 1.6.3",
   "language": "julia",
   "name": "julia-1.6"
  },
  "language_info": {
   "file_extension": ".jl",
   "mimetype": "application/julia",
   "name": "julia",
   "version": "1.6.3"
  },
  "orig_nbformat": 4,
  "vscode": {
   "interpreter": {
    "hash": "6dd6fd9a984b8e9f8b632a0ce0a6e605415975433a0eb1572562d03f135e73a0"
   }
  }
 },
 "nbformat": 4,
 "nbformat_minor": 2
}
